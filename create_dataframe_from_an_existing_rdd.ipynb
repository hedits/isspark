{
 "cells": [
  {
   "cell_type": "markdown",
   "id": "a1304a60",
   "metadata": {},
   "source": [
    "#### Dataframes no PySpark podem ser criados principalmente de duas maneiras:\n",
    "* De um conjunto de dados distribuído resiliente (RDD) existente, que é uma estrutura de dados fundamental no Spark\n",
    "* De fontes de arquivos externas, como CSV, TXT, JSON"
   ]
  },
  {
   "cell_type": "markdown",
   "id": "a6db0024",
   "metadata": {},
   "source": [
    "#### Create PySpark DataFrame from an existing RDD\n",
    "- Criar um RDD usando método *pirallelize()*\n",
    "- Converter em um DataFrame usando método *.createDatFrame()* do SparkSession."
   ]
  },
  {
   "cell_type": "code",
   "execution_count": 1,
   "id": "0a5e3091",
   "metadata": {},
   "outputs": [],
   "source": [
    "# Importing the Libraries\n",
    "from pyspark import SparkContext\n",
    "from pyspark.sql import SparkSession"
   ]
  },
  {
   "cell_type": "markdown",
   "id": "2ffaa464",
   "metadata": {},
   "source": [
    "_.getOrCreate() cria e instancia um SparkContext ou SparkSession, e ou, pega uma existente criada anteriormente se houver._"
   ]
  },
  {
   "cell_type": "code",
   "execution_count": 2,
   "id": "842b7db8",
   "metadata": {},
   "outputs": [
    {
     "name": "stderr",
     "output_type": "stream",
     "text": [
      "22/03/01 14:50:28 WARN Utils: Your hostname, pop-os resolves to a loopback address: 127.0.1.1; using 192.168.1.108 instead (on interface eno1)\n",
      "22/03/01 14:50:28 WARN Utils: Set SPARK_LOCAL_IP if you need to bind to another address\n",
      "Using Spark's default log4j profile: org/apache/spark/log4j-defaults.properties\n",
      "Setting default log level to \"WARN\".\n",
      "To adjust logging level use sc.setLogLevel(newLevel). For SparkR, use setLogLevel(newLevel).\n",
      "22/03/01 14:50:29 WARN NativeCodeLoader: Unable to load native-hadoop library for your platform... using builtin-java classes where applicable\n",
      "22/03/01 14:50:29 WARN Utils: Service 'SparkUI' could not bind on port 4040. Attempting port 4041.\n"
     ]
    }
   ],
   "source": [
    "# Create SparkContext\n",
    "sc = SparkContext.getOrCreate()"
   ]
  },
  {
   "cell_type": "code",
   "execution_count": 3,
   "id": "f903fe83",
   "metadata": {},
   "outputs": [],
   "source": [
    "# Create SparkSession\n",
    "spark = SparkSession.builder.appName('PySpark DataFrame From RDD').getOrCreate()"
   ]
  },
  {
   "cell_type": "markdown",
   "id": "f5b6a0cc",
   "metadata": {},
   "source": [
    "#### Creating a Resilient Data Structure (RDD)\n",
    "- Cria um RDD a aprtir de uma tupla de notas\n",
    "- *.parallelize()* pega a tupla com as notas dos alunos"
   ]
  },
  {
   "cell_type": "code",
   "execution_count": 5,
   "id": "063e2683",
   "metadata": {},
   "outputs": [],
   "source": [
    "# Create RDD\n",
    "rdd = sc.parallelize([('C',85,76,87,91), ('B',85,76,87,91), (\"A\", 85,78,96,92), (\"A\", 92,76,89,96)], 4)"
   ]
  },
  {
   "cell_type": "code",
   "execution_count": 8,
   "id": "14c05099",
   "metadata": {},
   "outputs": [
    {
     "name": "stdout",
     "output_type": "stream",
     "text": [
      "<class 'pyspark.rdd.RDD'>\n"
     ]
    }
   ],
   "source": [
    "# Checking the RDD data type\n",
    "print(type(rdd))"
   ]
  },
  {
   "cell_type": "markdown",
   "id": "f4f5442f",
   "metadata": {},
   "source": [
    "#### Convertendo o RDD em PySpark DataFrame\n",
    "- .createDataFrame() do SparkSession recebe dados como um RDD, uma lista Python ou um DataFrame Pandas.\n",
    "- usamos RDD como dados\n",
    "- Criamos uma lista de sub strings, que serão passadas para o atributo schema do método .createDataFrame() "
   ]
  },
  {
   "cell_type": "code",
   "execution_count": 7,
   "id": "ad2ead20",
   "metadata": {},
   "outputs": [
    {
     "name": "stderr",
     "output_type": "stream",
     "text": [
      "                                                                                \r"
     ]
    }
   ],
   "source": [
    "sub = ['Division','English','Mathematics','Physics','Chemistry']\n",
    "marks_df = spark.createDataFrame(rdd, schema=sub)"
   ]
  },
  {
   "cell_type": "code",
   "execution_count": null,
   "id": "674b4bbe",
   "metadata": {},
   "outputs": [],
   "source": [
    "# Checking The dataType of PySpark DataFrame\n",
    "print(type(marks_df))"
   ]
  },
  {
   "cell_type": "code",
   "execution_count": 11,
   "id": "6961556d",
   "metadata": {},
   "outputs": [
    {
     "name": "stdout",
     "output_type": "stream",
     "text": [
      "root\n",
      " |-- Division: string (nullable = true)\n",
      " |-- English: long (nullable = true)\n",
      " |-- Mathematics: long (nullable = true)\n",
      " |-- Physics: long (nullable = true)\n",
      " |-- Chemistry: long (nullable = true)\n",
      "\n"
     ]
    }
   ],
   "source": [
    "# check the schema of our file\n",
    "marks_df.printSchema()"
   ]
  },
  {
   "cell_type": "code",
   "execution_count": 12,
   "id": "1c49728c",
   "metadata": {},
   "outputs": [
    {
     "name": "stdout",
     "output_type": "stream",
     "text": [
      "+--------+-------+-----------+-------+---------+\n",
      "|Division|English|Mathematics|Physics|Chemistry|\n",
      "+--------+-------+-----------+-------+---------+\n",
      "|       C|     85|         76|     87|       91|\n",
      "|       B|     85|         76|     87|       91|\n",
      "|       A|     85|         78|     96|       92|\n",
      "|       A|     92|         76|     89|       96|\n",
      "+--------+-------+-----------+-------+---------+\n",
      "\n"
     ]
    }
   ],
   "source": [
    "# view file contents\n",
    "marks_df.show()"
   ]
  }
 ],
 "metadata": {
  "kernelspec": {
   "display_name": "Python 3 (ipykernel)",
   "language": "python",
   "name": "python3"
  },
  "language_info": {
   "codemirror_mode": {
    "name": "ipython",
    "version": 3
   },
   "file_extension": ".py",
   "mimetype": "text/x-python",
   "name": "python",
   "nbconvert_exporter": "python",
   "pygments_lexer": "ipython3",
   "version": "3.9.7"
  }
 },
 "nbformat": 4,
 "nbformat_minor": 5
}
